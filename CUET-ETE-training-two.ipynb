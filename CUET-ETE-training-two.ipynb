{
 "cells": [
  {
   "cell_type": "code",
   "execution_count": 1,
   "id": "343db59e",
   "metadata": {},
   "outputs": [
    {
     "name": "stderr",
     "output_type": "stream",
     "text": [
      "Cloning into 'banglabert'...\n"
     ]
    }
   ],
   "source": [
    "! git clone https://github.com/csebuetnlp/banglabert.git --depth=1"
   ]
  },
  {
   "cell_type": "code",
   "execution_count": 2,
   "id": "7d3da897",
   "metadata": {},
   "outputs": [
    {
     "name": "stdout",
     "output_type": "stream",
     "text": [
      "Collecting git+https://github.com/csebuetnlp/normalizer\n",
      "  Cloning https://github.com/csebuetnlp/normalizer to c:\\users\\niaz mohaiman abtahi\\appdata\\local\\temp\\pip-req-build-k2_46v4z\n",
      "  Resolved https://github.com/csebuetnlp/normalizer to commit d405944dde5ceeacb7c2fd3245ae2a9dea5f35c9\n",
      "  Installing build dependencies: started\n",
      "  Installing build dependencies: finished with status 'done'\n",
      "  Getting requirements to build wheel: started\n",
      "  Getting requirements to build wheel: finished with status 'done'\n",
      "  Preparing metadata (pyproject.toml): started\n",
      "  Preparing metadata (pyproject.toml): finished with status 'done'\n",
      "Requirement already satisfied: regex in c:\\users\\niaz mohaiman abtahi\\appdata\\local\\programs\\python\\python310\\lib\\site-packages (from normalizer==0.0.1) (2023.8.8)\n",
      "Requirement already satisfied: emoji==1.4.2 in c:\\users\\niaz mohaiman abtahi\\appdata\\local\\programs\\python\\python310\\lib\\site-packages (from normalizer==0.0.1) (1.4.2)\n",
      "Requirement already satisfied: ftfy==6.0.3 in c:\\users\\niaz mohaiman abtahi\\appdata\\local\\programs\\python\\python310\\lib\\site-packages (from normalizer==0.0.1) (6.0.3)\n",
      "Requirement already satisfied: wcwidth in c:\\users\\niaz mohaiman abtahi\\appdata\\local\\programs\\python\\python310\\lib\\site-packages (from ftfy==6.0.3->normalizer==0.0.1) (0.2.10)\n"
     ]
    },
    {
     "name": "stderr",
     "output_type": "stream",
     "text": [
      "  Running command git clone --filter=blob:none --quiet https://github.com/csebuetnlp/normalizer 'C:\\Users\\Niaz Mohaiman Abtahi\\AppData\\Local\\Temp\\pip-req-build-k2_46v4z'\n",
      "\n",
      "[notice] A new release of pip is available: 23.2.1 -> 23.3.1\n",
      "[notice] To update, run: C:\\Users\\Niaz Mohaiman Abtahi\\AppData\\Local\\Programs\\Python\\Python310\\python.exe -m pip install --upgrade pip\n"
     ]
    }
   ],
   "source": [
    "! pip install git+https://github.com/csebuetnlp/normalizer"
   ]
  },
  {
   "cell_type": "code",
   "execution_count": 18,
   "id": "795f149e",
   "metadata": {},
   "outputs": [
    {
     "name": "stdout",
     "output_type": "stream",
     "text": [
      "Couldn't find program: 'sh'\n"
     ]
    }
   ],
   "source": [
    "%%sh\n",
    "%cd banglabert/sequence_classification/\n",
    "%python ./sequence_classification.py \\\n",
    "    --model_name_or_path \"csebuetnlp/banglabert_large\" \\\n",
    "    --train_file \"/kaggle/input/cuet-ete-day-23/train.jsonl\" \\\n",
    "    --validation_file \"/kaggle/input/cuet-ete-day-23/validation.jsonl\" \\\n",
    "    --output_dir \"outputs/\" \\\n",
    "    --learning_rate=2e-5 \\\n",
    "    --warmup_ratio 0.1 \\\n",
    "    --gradient_accumulation_steps 2 \\\n",
    "    --weight_decay 0.1 \\\n",
    "    --lr_scheduler_type \"linear\"  \\\n",
    "    --per_device_train_batch_size=16 \\\n",
    "    --per_device_eval_batch_size=16 \\\n",
    "    --max_seq_length 512 \\\n",
    "    --logging_strategy \"epoch\" \\\n",
    "    --save_strategy \"epoch\" \\\n",
    "    --evaluation_strategy \"epoch\" \\\n",
    "    --num_train_epochs=10 \\\n",
    "    --report_to \"none\" \\\n",
    "    --load_best_model_at_end \\\n",
    "    --do_train --do_eval"
   ]
  },
  {
   "cell_type": "code",
   "execution_count": 5,
   "id": "e9129275",
   "metadata": {},
   "outputs": [
    {
     "name": "stdout",
     "output_type": "stream",
     "text": [
      "N:\\CUET ETE\\banglabert\\sequence_classification\n"
     ]
    }
   ],
   "source": [
    "cd banglabert/sequence_classification/"
   ]
  },
  {
   "cell_type": "code",
   "execution_count": null,
   "id": "2fa01013",
   "metadata": {},
   "outputs": [],
   "source": []
  }
 ],
 "metadata": {
  "kernelspec": {
   "display_name": "Python 3 (ipykernel)",
   "language": "python",
   "name": "python3"
  },
  "language_info": {
   "codemirror_mode": {
    "name": "ipython",
    "version": 3
   },
   "file_extension": ".py",
   "mimetype": "text/x-python",
   "name": "python",
   "nbconvert_exporter": "python",
   "pygments_lexer": "ipython3",
   "version": "3.9.12"
  }
 },
 "nbformat": 4,
 "nbformat_minor": 5
}
